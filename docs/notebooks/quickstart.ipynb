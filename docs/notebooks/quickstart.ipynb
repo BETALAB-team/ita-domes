{
 "cells": [
  {
   "cell_type": "markdown",
   "id": "357f2ba4",
   "metadata": {},
   "source": [
    "# A quick start to use GRINS-Tool\n",
    "\n",
    "After installing the repository for the evaluation of the energy consumption of Italian residential buildings."
   ]
  },
  {
   "cell_type": "markdown",
   "id": "585ea307",
   "metadata": {},
   "source": [
    "\n",
    "## Import python libraries"
   ]
  },
  {
   "cell_type": "markdown",
   "id": "bf0d1014-9eb2-4a0d-8be3-c570f8901256",
   "metadata": {},
   "source": [
    "Here you set the path of the main repository"
   ]
  },
  {
   "cell_type": "code",
   "execution_count": 1,
   "id": "168a8289-2e83-495b-9492-3a46262e50a2",
   "metadata": {},
   "outputs": [],
   "source": [
    "import sys\n",
    "sys.path.insert(0, r\"C:\\Projects\\GRINS-Tool\") # <-- insert your path here"
   ]
  },
  {
   "cell_type": "markdown",
   "id": "47f2c933-773e-4051-bd43-e42001b2d935",
   "metadata": {},
   "source": [
    "Then you import all the libraries we need to run the first test"
   ]
  },
  {
   "cell_type": "code",
   "execution_count": 2,
   "id": "7d047eaa",
   "metadata": {},
   "outputs": [],
   "source": [
    "from funcs.io_functions import read_istat_data, read_appliances_data, read_weather_data, read_envelopes_data\n",
    "from funcs.main_functions import process_building_data, process_users_data, process_HVAC_data, process_results \n",
    "from funcs.main_functions import simulate_appliances, simulate_hvac\n",
    "import random\n",
    "import logging\n",
    "random.seed(10)\n",
    "logging.getLogger().setLevel(logging.CRITICAL)\n"
   ]
  },
  {
   "cell_type": "markdown",
   "id": "693a1901",
   "metadata": {},
   "source": [
    "### (1) Read and import input data"
   ]
  },
  {
   "cell_type": "code",
   "execution_count": 10,
   "id": "2f1f52e2",
   "metadata": {},
   "outputs": [
    {
     "name": "stdout",
     "output_type": "stream",
     "text": [
      "\n",
      "Importing ISTAT dataset..\n",
      "[Import concluded in 0.70 s]\n",
      "\n",
      "Importing electrical appliances dataset..\n",
      "[Import concluded in 0.77 s]\n",
      "\n",
      "Importing weather data..\n",
      "Reading weather file classes from CTI reference year\n",
      "Reading template weather file from CTI reference year\n",
      "[Import concluded in 6.72 s]\n",
      "\n",
      "Importing building envelopes information (already processed)..\n",
      "[Import concluded in 28.41 s]\n"
     ]
    }
   ],
   "source": [
    "# Dataset about energy use in Italian households\n",
    "istat_data = read_istat_data(year = 2013, \n",
    "                             selected_regions = None,\n",
    "                             number_of_buildings = 200) #None\n",
    "\n",
    "# Dataset about electrical appliances (GfK)\n",
    "appliances_data = read_appliances_data(year = 2013)\n",
    "\n",
    "# Weather data from CTI (can be overwritten with data from Regional weather stations)\n",
    "weather_data = read_weather_data(year = 'CTI', #2013 \n",
    "                                 month_resample = True)\n",
    "# A pre-processed dataset with info about building envelopes\n",
    "envelopes_data = read_envelopes_data(istat_data['selected_buildings'])"
   ]
  },
  {
   "cell_type": "markdown",
   "id": "75ff2840-af07-4f9d-8bf1-efad7838c0db",
   "metadata": {},
   "source": [
    "### (2) Simulate consumption of domestic appliances\n"
   ]
  },
  {
   "cell_type": "code",
   "execution_count": 11,
   "id": "5f8848a4",
   "metadata": {},
   "outputs": [
    {
     "name": "stdout",
     "output_type": "stream",
     "text": [
      "\n",
      "Electrical appliances simulation started:\n",
      "Lights\n",
      "Little appliances\n",
      "Refrigerators\n",
      "Big appliances\n",
      "TVs and screens\n",
      "Cookings\n",
      "Cooling systems\n",
      "Standby appliances\n",
      "DHW\n",
      "[Appliances simulations concluded in 2.31 s]\n"
     ]
    }
   ],
   "source": [
    "consumption_appliances = simulate_appliances(appliances_data, istat_data)"
   ]
  },
  {
   "cell_type": "markdown",
   "id": "b0433599-01fc-469b-b1aa-c85a137f4eb1",
   "metadata": {},
   "source": [
    "### (3) Data pre-processing "
   ]
  },
  {
   "cell_type": "code",
   "execution_count": 12,
   "id": "8078ceae-790f-4366-98bf-10d1487f35e1",
   "metadata": {},
   "outputs": [
    {
     "name": "stdout",
     "output_type": "stream",
     "text": [
      "\n",
      "Overwriting real users on standard users data..\n",
      "[Appliances simulations concluded in 1.03 s]\n"
     ]
    }
   ],
   "source": [
    "# lettura file involucri edilizi e utenti (informazioni già processate da file istat)\n",
    "users_data = process_users_data(istat_data, consumption_appliances)"
   ]
  },
  {
   "cell_type": "code",
   "execution_count": 13,
   "id": "de2cd9d5-f8d4-4337-beb4-b83993467885",
   "metadata": {},
   "outputs": [
    {
     "name": "stdout",
     "output_type": "stream",
     "text": [
      "\n",
      "Preparing input data for building simulations..\n",
      "[Building data prepared in 1.64 s]\n"
     ]
    }
   ],
   "source": [
    "# associazione edificio, impianti e elettrodomestici in base alle risposte istat\n",
    "buildings_data = process_building_data(istat_data, envelopes_data, consumption_appliances, users_data)"
   ]
  },
  {
   "cell_type": "code",
   "execution_count": 14,
   "id": "29146ddd-23b7-416f-970a-96e4f6830d3a",
   "metadata": {},
   "outputs": [],
   "source": [
    "# associazione edificio, impianti e elettrodomestici in base alle risposte istat\n",
    "buildings_data, _ = process_HVAC_data(istat_data, buildings_data, consumption_appliances)"
   ]
  },
  {
   "cell_type": "markdown",
   "id": "4ae1cd75-0a30-43f2-9064-30a27e03806e",
   "metadata": {},
   "source": [
    "### (4) Building simulation"
   ]
  },
  {
   "cell_type": "code",
   "execution_count": 15,
   "id": "5ce33cbc-021a-4044-b2b4-4280ff87ac1c",
   "metadata": {},
   "outputs": [
    {
     "name": "stderr",
     "output_type": "stream",
     "text": [
      "\u001b[38;2;255;0;0m  0%\u001b[39m \u001b[38;2;255;0;0m(0 of 200)\u001b[39m |                        | Elapsed Time: 0:00:00 ETA:  --:--:--"
     ]
    },
    {
     "name": "stdout",
     "output_type": "stream",
     "text": [
      "\n",
      "Building simulation started:\n"
     ]
    },
    {
     "name": "stderr",
     "output_type": "stream",
     "text": [
      "\u001b[38;2;0;255;0m100%\u001b[39m \u001b[38;2;0;255;0m(200 of 200)\u001b[39m |######################| Elapsed Time: 0:08:05 Time:  0:08:050440\n"
     ]
    },
    {
     "name": "stdout",
     "output_type": "stream",
     "text": [
      "[Building simulations concluded]\n"
     ]
    }
   ],
   "source": [
    "# simulazione heating and cooling\n",
    "consumption_hvac = simulate_hvac(buildings_data, weather_data, output_folder = None, model = '1C')\n"
   ]
  },
  {
   "cell_type": "markdown",
   "id": "fd3e2066-ad29-4efc-9eef-67e83241cc0b",
   "metadata": {},
   "source": [
    "### (5) Results post-processing"
   ]
  },
  {
   "cell_type": "code",
   "execution_count": 16,
   "id": "38ec168a-5f22-4823-bbc7-2606d357eed0",
   "metadata": {},
   "outputs": [
    {
     "name": "stdout",
     "output_type": "stream",
     "text": [
      "\n",
      "Results processing started:\n",
      "\n",
      " Resuming consumption by energy carrier in ktep..\n",
      "[Results processing concluded in 0.56 s]\n"
     ]
    },
    {
     "data": {
      "image/png": "[encoded data removed]",
      "text/plain": [
       "<Figure size 800x600 with 2 Axes>"
      ]
     },
     "metadata": {},
     "output_type": "display_data"
    }
   ],
   "source": [
    "# summary risultati per ogni utente\n",
    "res = process_results(consumption_appliances, consumption_hvac, buildings_data, \n",
    "                      um = 'ktep')\n",
    "results = res.all\n",
    "\n",
    "# visualizzazione anno con suddivisione geografica (mappa regioni)\n",
    "res.heatmap(column = 3) # 0: electricity, 1: gas , 2: gpl , 3: biomass"
   ]
  },
  {
   "cell_type": "code",
   "execution_count": null,
   "id": "522a91a5-a30f-4391-9bb1-2e5c2ca179c2",
   "metadata": {},
   "outputs": [],
   "source": []
  }
 ],
 "metadata": {
  "kernelspec": {
   "display_name": "Python 3 (ipykernel)",
   "language": "python",
   "name": "python3"
  },
  "language_info": {
   "codemirror_mode": {
    "name": "ipython",
    "version": 3
   },
   "file_extension": ".py",
   "mimetype": "text/x-python",
   "name": "python",
   "nbconvert_exporter": "python",
   "pygments_lexer": "ipython3",
   "version": "3.12.7"
  }
 },
 "nbformat": 4,
 "nbformat_minor": 5
}
